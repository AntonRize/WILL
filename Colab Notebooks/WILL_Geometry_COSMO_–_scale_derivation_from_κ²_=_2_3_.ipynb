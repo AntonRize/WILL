{
  "nbformat": 4,
  "nbformat_minor": 0,
  "metadata": {
    "colab": {
      "provenance": [],
      "include_colab_link": true
    },
    "kernelspec": {
      "name": "python3",
      "display_name": "Python 3"
    },
    "language_info": {
      "name": "python"
    }
  },
  "cells": [
    {
      "cell_type": "markdown",
      "metadata": {
        "id": "view-in-github",
        "colab_type": "text"
      },
      "source": [
        "<a href=\"https://colab.research.google.com/github/AntonRize/WILL/blob/main/Colab%20Notebooks/WILL_Geometry_COSMO_%E2%80%93_scale_derivation_from_%CE%BA%C2%B2_%3D_2_3_.ipynb\" target=\"_parent\"><img src=\"https://colab.research.google.com/assets/colab-badge.svg\" alt=\"Open In Colab\"/></a>"
      ]
    },
    {
      "cell_type": "code",
      "execution_count": null,
      "metadata": {
        "colab": {
          "base_uri": "https://localhost:8080/"
        },
        "id": "89cw6wJKHG-1",
        "outputId": "c54c235e-c556-40b6-dafa-e57abdcb390c"
      },
      "outputs": [
        {
          "output_type": "stream",
          "name": "stdout",
          "text": [
            "=== WILL Geometry – scale derivation from κ² = 2/3 ===\n",
            "\n",
            "H0 (Planck-2018)          = 67.36 km s⁻¹ Mpc⁻¹\n",
            "H0 (SI)                   = 2.1829889293697242647353919658570074159977993112046e-18 s⁻¹\n",
            "\n",
            "Hubble radius r_H = c/H0          = 137331185681530924680496347.98099762470308788598575 m\n",
            "                       = 4450.6006235154394299287410926365795724465558194774 Mpc\n",
            "\n",
            "R_s (κ² r_H)               = 91554123787687283120330898.653998416468725257323832 m\n",
            "Total mass M_U             = 6.1642975959198426629504964749418183158073198586668e+52 kg\n",
            "                       = 31000204156561792045897.079035347872061470979490094 M_☉\n",
            "\n",
            "Λ = κ² / r_H²             = 3.5348452159118616912206132994463007956908620385324e-53 m⁻²\n",
            "ρ_Λ = Λ c² / (8πG)        = 1.8939400335749776918607739661867716959317724323182e-27 kg m⁻³\n",
            "                       = 1.1821043906042744671938424775371999938502239025402e-17 GeV cm⁻³\n",
            "\n",
            "Ω_Λ                       = 0.66666666666666666666666666666666666666666666666667\n",
            "Ω_m                       = 0.33333333333333333333333333333333333333333333333333\n",
            "\n",
            "Cosmic age t_0 = 1/H0     = 458087526943492770.19002375296912114014251781472684 s\n",
            "                       = 14.525860189735311079084974409218706879202112339131 Gyr\n",
            "\n",
            "=== All values derived from κ² = 2/3 + H0 (Planck-2018) ===\n"
          ]
        }
      ],
      "source": [
        "#!/usr/bin/env python3\n",
        "# -------------------------------------------------------------\n",
        "# WILL Geometry – absolute-scale cosmology from κ² = 2/3\n",
        "# Anton Rize – 12 Jul 2025\n",
        "# Methodological transparency: every constant & step printed\n",
        "# -------------------------------------------------------------\n",
        "\n",
        "import mpmath as mp\n",
        "mp.mp.dps = 50          # 50-decimal precision throughout\n",
        "\n",
        "# CODATA-2022 exact or recommended values (SI units)\n",
        "c_SI   = mp.mpf('299792458')                    # m s⁻¹\n",
        "G_SI   = mp.mpf('6.67430') * mp.mpf('10')**-11  # m³ kg⁻¹ s⁻²\n",
        "hbar_SI= mp.mpf('1.0545718176461565')*mp.mpf('10')**-34  # J s\n",
        "kpc_SI = mp.mpf('3.0856775814913673') * mp.mpf('10')**19  # m\n",
        "Mpc_SI = mp.mpf('1000') * kpc_SI\n",
        "km_SI  = mp.mpf('1000')                     # m\n",
        "\n",
        "# Empirical scale anchor: Planck-2018 TT+TE+EE+lowE\n",
        "H0_kms_Mpc = mp.mpf('67.36')                # km s⁻¹ Mpc⁻¹\n",
        "H0_SI      = H0_kms_Mpc * km_SI / Mpc_SI    # s⁻¹\n",
        "\n",
        "# Geometry postulate (exact)\n",
        "kappa_sq = mp.mpf('2') / mp.mpf('3')\n",
        "\n",
        "print(\"=== WILL Geometry – scale derivation from κ² = 2/3 ===\\n\")\n",
        "print(f\"H0 (Planck-2018)          = {H0_kms_Mpc} km s⁻¹ Mpc⁻¹\")\n",
        "print(f\"H0 (SI)                   = {H0_SI} s⁻¹\\n\")\n",
        "\n",
        "# -----------------------------------------------------------\n",
        "# 1.  Scale length\n",
        "r_H = c_SI / H0_SI\n",
        "print(f\"Hubble radius r_H = c/H0          = {r_H} m\")\n",
        "print(f\"                       = {r_H / Mpc_SI} Mpc\")\n",
        "\n",
        "# 2.  Schwarzschild radius of the Universe\n",
        "R_s = kappa_sq * r_H\n",
        "print(f\"\\nR_s (κ² r_H)               = {R_s} m\")\n",
        "\n",
        "# 3.  Total mass within r_H\n",
        "M_U = (kappa_sq * c_SI**2 * r_H) / (mp.mpf('2') * G_SI)\n",
        "print(f\"Total mass M_U             = {M_U} kg\")\n",
        "print(f\"                       = {M_U / mp.mpf('1.98847e30')} M_☉\")\n",
        "\n",
        "# 4.  Cosmological constant Λ\n",
        "Lambda = kappa_sq / r_H**2\n",
        "print(f\"\\nΛ = κ² / r_H²             = {Lambda} m⁻²\")\n",
        "\n",
        "# 5.  Vacuum energy density\n",
        "rho_Lambda = Lambda * c_SI**2 / (mp.mpf('8') * mp.pi * G_SI)\n",
        "print(f\"ρ_Λ = Λ c² / (8πG)        = {rho_Lambda} kg m⁻³\")\n",
        "print(f\"                       = {rho_Lambda / mp.mpf('1.602176634e-10')} GeV cm⁻³\")\n",
        "\n",
        "# 6.  Dimensionless density parameters\n",
        "Omega_Lambda = kappa_sq\n",
        "Omega_m      = mp.mpf('1') - Omega_Lambda\n",
        "print(f\"\\nΩ_Λ                       = {Omega_Lambda}\")\n",
        "print(f\"Ω_m                       = {Omega_m}\")\n",
        "\n",
        "# 7.  Cosmic age\n",
        "t_0 = mp.mpf('1') / H0_SI\n",
        "print(f\"\\nCosmic age t_0 = 1/H0     = {t_0} s\")\n",
        "print(f\"                       = {t_0 / mp.mpf('3.1536e16')} Gyr\")\n",
        "\n",
        "print(\"\\n=== All values derived from κ² = 2/3 + H0 (Planck-2018) ===\")"
      ]
    },
    {
      "cell_type": "code",
      "source": [],
      "metadata": {
        "id": "MCiDnT4juBUN"
      },
      "execution_count": null,
      "outputs": []
    }
  ]
}