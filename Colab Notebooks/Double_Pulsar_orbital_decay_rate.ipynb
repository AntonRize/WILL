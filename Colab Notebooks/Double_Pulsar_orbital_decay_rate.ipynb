{
  "nbformat": 4,
  "nbformat_minor": 0,
  "metadata": {
    "colab": {
      "provenance": []
    },
    "kernelspec": {
      "name": "python3",
      "display_name": "Python 3"
    },
    "language_info": {
      "name": "python"
    }
  },
  "cells": [
    {
      "cell_type": "code",
      "execution_count": 2,
      "metadata": {
        "colab": {
          "base_uri": "https://localhost:8080/"
        },
        "id": "_dQqIn9ofOCe",
        "outputId": "fa849f81-1cd9-4d6f-ae84-799e9588a118"
      },
      "outputs": [
        {
          "output_type": "stream",
          "name": "stdout",
          "text": [
            "Double Pulsar parameters:\n",
            "  m1 = 2.866149e+30 kg\n",
            "  m2 = 2.758743e+30 kg\n",
            "  M  = 5.624892e+30 kg\n",
            "  eta = 0.249908847472\n",
            "  Pb = 27906.97958590 s\n",
            "  e  = 0.6171334\n",
            "\n",
            "Predicted orbital period decay rate (Pdot_b):\n",
            "  Pdot_b = -2.4030934456e-12 s/s\n"
          ]
        }
      ],
      "source": [
        "\"\"\"\n",
        "Double Pulsar orbital decay rate (Pdot_b) calculation\n",
        "based on Anton's WILL geometry and energy symmetry principle.\n",
        "\n",
        "INPUTS:\n",
        "    m1  - Mass of first pulsar [kg]\n",
        "    m2  - Mass of second pulsar [kg]\n",
        "    Pb  - Orbital period [s]\n",
        "    e   - Orbital eccentricity (dimensionless)\n",
        "\n",
        "CONSTANTS:\n",
        "    G   - Gravitational constant [m^3 kg^-1 s^-2]\n",
        "    c   - Speed of light [m/s]\n",
        "    pi  - Mathematical constant π\n",
        "\n",
        "OUTPUT:\n",
        "    Pdot_b - Predicted orbital period decay rate [s/s]\n",
        "\n",
        "NOTES:\n",
        "    - This formula uses the geometric derivation of gravitational wave emission\n",
        "      from the variation of κ^2 and β^2 projections along an elliptical orbit.\n",
        "    - The eccentricity factor F(e) comes directly from the phase integration\n",
        "      over one orbital cycle.\n",
        "\"\"\"\n",
        "\n",
        "import math\n",
        "\n",
        "# -------------------\n",
        "# 1. Input parameters\n",
        "# -------------------\n",
        "m1 = 2.866149e30       # [kg] Pulsar A mass\n",
        "m2 = 2.758743e30       # [kg] Pulsar B mass\n",
        "Pb = 27906.9795859     # [s] Orbital period\n",
        "e  = 0.6171334         # [-] Orbital eccentricity\n",
        "\n",
        "# -------------------\n",
        "# 2. Constants\n",
        "# -------------------\n",
        "G  = 6.67430e-11       # [m^3 kg^-1 s^-2]\n",
        "c  = 2.99792458e8      # [m/s]\n",
        "pi = math.pi\n",
        "\n",
        "# -------------------\n",
        "# 3. Derived parameters\n",
        "# -------------------\n",
        "M = m1 + m2                              # Total mass [kg]\n",
        "eta = (m1 * m2) / M**2                   # Symmetric mass ratio (dimensionless)\n",
        "\n",
        "# -------------------\n",
        "# 4. Geometric constant K_geom\n",
        "# Derived from integration of squared derivatives of κ^2 and β^2 over one orbit.\n",
        "# This is equivalent to the prefactor in the GW power formula but now from WILL geometry.\n",
        "# -------------------\n",
        "K_geom = (192 * pi / 5) * (G**(5/3) / c**5) * (2 * pi)**(5/3)\n",
        "\n",
        "# -------------------\n",
        "# 5. Eccentricity factor F(e)\n",
        "# Result of phase-integration of κ^2 and β^2 accelerations squared.\n",
        "# -------------------\n",
        "F_e = (1 + (73/24)*e**2 + (37/96)*e**4) / (1 - e**2)**(7/2)\n",
        "\n",
        "# -------------------\n",
        "# 6. Final calculation of Pdot_b\n",
        "# -------------------\n",
        "Pdot_b = -K_geom * (m1 * m2 / (M**(1/3))) * (Pb**(-5/3)) * F_e\n",
        "\n",
        "# -------------------\n",
        "# 7. Output\n",
        "# -------------------\n",
        "print(\"Double Pulsar parameters:\")\n",
        "print(f\"  m1 = {m1:.6e} kg\")\n",
        "print(f\"  m2 = {m2:.6e} kg\")\n",
        "print(f\"  M  = {M:.6e} kg\")\n",
        "print(f\"  eta = {eta:.12f}\")\n",
        "print(f\"  Pb = {Pb:.8f} s\")\n",
        "print(f\"  e  = {e:.7f}\")\n",
        "print(\"\\nPredicted orbital period decay rate (Pdot_b):\")\n",
        "print(f\"  Pdot_b = {Pdot_b:.10e} s/s\")"
      ]
    },
    {
      "cell_type": "code",
      "source": [],
      "metadata": {
        "id": "htiVxLz0fPU6"
      },
      "execution_count": null,
      "outputs": []
    }
  ]
}